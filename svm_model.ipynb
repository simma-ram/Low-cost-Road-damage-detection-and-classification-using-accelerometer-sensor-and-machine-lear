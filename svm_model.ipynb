{
 "cells": [
  {
   "cell_type": "code",
   "execution_count": 1,
   "metadata": {},
   "outputs": [],
   "source": [
    "import matplotlib.pyplot as mtp  \n",
    "import pandas as pd\n",
    "from sklearn.metrics import accuracy_score \n",
    "from sklearn import svm\n",
    "from sklearn.model_selection import train_test_split\n",
    "import numpy as nm"
   ]
  },
  {
   "cell_type": "code",
   "execution_count": null,
   "metadata": {},
   "outputs": [],
   "source": [
    "#importing datasets  \n",
    "data_set= pd.read_excel(r\"C:\\Users\\saira\\Desktop\\BTP_ project\\Book1.xlsx\")\n",
    "df=pd.DataFrame(data_set)\n",
    "print(df)"
   ]
  },
  {
   "cell_type": "code",
   "execution_count": 3,
   "metadata": {},
   "outputs": [],
   "source": [
    "new_x = []\n",
    "new_y = []\n",
    "\n",
    "indexOfElement = 0\n",
    "presentType = data_set.iloc[indexOfElement, 1]\n",
    "temp_data = []\n",
    "temp_data.append(data_set.iloc[0,0])\n",
    "\n",
    "while indexOfElement < len(data_set):\n",
    "    if presentType == data_set.iloc[indexOfElement, 1]:\n",
    "        temp_data.append(data_set.iloc[indexOfElement, 0])\n",
    "    else:\n",
    "        new_x.append(temp_data)\n",
    "        new_y.append(presentType)\n",
    "        presentType = data_set.iloc[indexOfElement, 1]\n",
    "        temp_data = []\n",
    "        temp_data.append(data_set.iloc[indexOfElement, 0])\n",
    "    \n",
    "    indexOfElement = indexOfElement+1\n",
    "\n",
    "if len(temp_data) != 0:\n",
    "    new_x.append(temp_data)\n",
    "    new_y.append(presentType)"
   ]
  },
  {
   "cell_type": "code",
   "execution_count": null,
   "metadata": {},
   "outputs": [],
   "source": [
    "for i in new_x:\n",
    "    print(i)"
   ]
  },
  {
   "cell_type": "code",
   "execution_count": null,
   "metadata": {},
   "outputs": [],
   "source": [
    "testLabels = []\n",
    "\n",
    "\n",
    "for each in new_x:\n",
    "    arraySize = len(each)\n",
    "    increments = 0\n",
    "    decrements = 0\n",
    "    currentprocess = \"nothing\"\n",
    "    whatHappendFirst = 0\n",
    "    index = 0\n",
    "    prevElement = 10\n",
    "    while index < arraySize:\n",
    "        if each[index] > prevElement:\n",
    "            if currentprocess != \"increasing\":\n",
    "                increments += 1\n",
    "                currentprocess = \"increasing\"\n",
    "        if each[index] < prevElement:\n",
    "            if currentprocess != \"decreasing\":\n",
    "                decrements += 1\n",
    "                currentprocess = \"decreasikng\"\n",
    "        prevElement = each[index]\n",
    "        index = index+1\n",
    "    if each[0] > 10:\n",
    "        whatHappendFirst = \"increment\"\n",
    "    elif each[0] < 10:\n",
    "        whatHappendFirst = \"decrement\"\n",
    "\n",
    "    if increments >= 1 and decrements >= 1:\n",
    "        testLabels.append(\"pathhole\")\n",
    "    \n",
    "    elif increments == 0 and decrements >= 1:\n",
    "        testLabels.append(\"rut\")\n",
    "    elif increments >= 1 and decrements == 0:\n",
    "        testLabels.append(\"patch\")\n",
    "    elif increments == 0 and decrements == 0:\n",
    "        testLabels.append(\"smooth\")\n",
    "    else:\n",
    "        testLabels.append(\"others\")\n",
    "\n",
    "print(testLabels)\n",
    "    "
   ]
  },
  {
   "cell_type": "code",
   "execution_count": null,
   "metadata": {},
   "outputs": [],
   "source": [
    "lst=new_x\n",
    "lst2=testLabels\n",
    "table = pd.DataFrame(list(zip(lst, lst2)),\n",
    "               columns =['Z-axis accleration array ', 'damage'])\n",
    "print(table)\n",
    "  "
   ]
  },
  {
   "cell_type": "code",
   "execution_count": 7,
   "metadata": {},
   "outputs": [
    {
     "name": "stdout",
     "output_type": "stream",
     "text": [
      "  Type of damage No. of damages\n",
      "1       patholes            720\n",
      "2            rut            832\n",
      "3          patch            424\n",
      "4         others              0\n",
      "5      no damage           1976\n"
     ]
    }
   ],
   "source": [
    "patholes = 0\n",
    "smooth = 0\n",
    "rut = 0\n",
    "patch = 0\n",
    "others = 0\n",
    "\n",
    "for each in testLabels:\n",
    "    if each == \"pathhole\":\n",
    "        patholes += 1\n",
    "    elif each == \"smooth\":\n",
    "        smooth += 1\n",
    "    elif each == \"patch\":\n",
    "        patch += 1\n",
    "    elif each == \"rut\":\n",
    "        rut += 1\n",
    "    else:\n",
    "        others += 1\n",
    "dict = {'patholes':str(patholes),'rut':str(rut),'patch':str(patch),'others':str(others),'no damage':str(smooth)}\n",
    "damages = pd.DataFrame(list(dict.items()),columns = ['Type of damage','No. of damages'],index=['1','2','3','4','5'])\n",
    "print(damages)"
   ]
  },
  {
   "cell_type": "code",
   "execution_count": 8,
   "metadata": {},
   "outputs": [
    {
     "name": "stdout",
     "output_type": "stream",
     "text": [
      "174\n"
     ]
    }
   ],
   "source": [
    "max_len = 0\n",
    "for l in new_x:\n",
    "    if len(l)>max_len:\n",
    "        max_len=len(l)\n",
    "print(max_len)"
   ]
  },
  {
   "cell_type": "code",
   "execution_count": 9,
   "metadata": {},
   "outputs": [],
   "source": [
    "for l in new_x:\n",
    "    while len(l)<max_len:\n",
    "        l.append(10)"
   ]
  },
  {
   "cell_type": "code",
   "execution_count": null,
   "metadata": {},
   "outputs": [],
   "source": [
    "lst=new_x\n",
    "lst2=testLabels\n",
    "table = pd.DataFrame(list(zip(lst, lst2)),\n",
    "               columns =['Z-axis accleration array ', 'damage'])\n",
    "print(table)\n",
    "  "
   ]
  },
  {
   "cell_type": "code",
   "execution_count": 11,
   "metadata": {},
   "outputs": [
    {
     "name": "stdout",
     "output_type": "stream",
     "text": [
      "<class 'numpy.ndarray'>\n"
     ]
    }
   ],
   "source": [
    "X = nm.array([nm.array(val) for val in new_x])\n",
    "print(type(X))"
   ]
  },
  {
   "cell_type": "code",
   "execution_count": 12,
   "metadata": {},
   "outputs": [],
   "source": [
    "import tensorflow as tf\n",
    "tx = tf.convert_to_tensor(X)"
   ]
  },
  {
   "cell_type": "code",
   "execution_count": null,
   "metadata": {},
   "outputs": [],
   "source": [
    "labels = {'pathhole' : 3,'rut' : 2,'smooth' : 0,'patch' : 1}\n",
    "y_labels = []\n",
    "for l in testLabels:\n",
    "  y_labels.append(labels[l])\n",
    "print(y_labels,end=' ')"
   ]
  },
  {
   "cell_type": "code",
   "execution_count": 15,
   "metadata": {},
   "outputs": [],
   "source": [
    "ty = tf.convert_to_tensor(y_labels)"
   ]
  },
  {
   "cell_type": "code",
   "execution_count": 22,
   "metadata": {},
   "outputs": [],
   "source": [
    "sx=nm.save('x_data',tx)\n",
    "sy=nm.save('y_data',ty)"
   ]
  },
  {
   "cell_type": "code",
   "execution_count": 23,
   "metadata": {},
   "outputs": [],
   "source": [
    "x=nm.load(\"x_data.npy\",allow_pickle=True)\n",
    "y=nm.load(\"y_data.npy\",allow_pickle=True)"
   ]
  },
  {
   "cell_type": "code",
   "execution_count": 24,
   "metadata": {},
   "outputs": [],
   "source": [
    "from sklearn.model_selection import train_test_split  \n",
    "x_train, x_test, y_train, y_test= train_test_split(x , y, test_size= 0.20, random_state=0)  "
   ]
  },
  {
   "cell_type": "code",
   "execution_count": null,
   "metadata": {},
   "outputs": [],
   "source": [
    "#feature Scaling  \n",
    "from sklearn.preprocessing import StandardScaler    \n",
    "st_x= StandardScaler() \n",
    "#x_train= x_train.reshape(-1, 1)\n",
    "#x_test = x_test.reshape(-1, 1)\n",
    "x_train= st_x.fit_transform(x_train)    \n",
    "x_test= st_x.transform(x_test) \n",
    "print(x_train)   \n",
    "print(x_test) "
   ]
  },
  {
   "cell_type": "code",
   "execution_count": 26,
   "metadata": {},
   "outputs": [
    {
     "data": {
      "text/html": [
       "<style>#sk-container-id-2 {color: black;background-color: white;}#sk-container-id-2 pre{padding: 0;}#sk-container-id-2 div.sk-toggleable {background-color: white;}#sk-container-id-2 label.sk-toggleable__label {cursor: pointer;display: block;width: 100%;margin-bottom: 0;padding: 0.3em;box-sizing: border-box;text-align: center;}#sk-container-id-2 label.sk-toggleable__label-arrow:before {content: \"▸\";float: left;margin-right: 0.25em;color: #696969;}#sk-container-id-2 label.sk-toggleable__label-arrow:hover:before {color: black;}#sk-container-id-2 div.sk-estimator:hover label.sk-toggleable__label-arrow:before {color: black;}#sk-container-id-2 div.sk-toggleable__content {max-height: 0;max-width: 0;overflow: hidden;text-align: left;background-color: #f0f8ff;}#sk-container-id-2 div.sk-toggleable__content pre {margin: 0.2em;color: black;border-radius: 0.25em;background-color: #f0f8ff;}#sk-container-id-2 input.sk-toggleable__control:checked~div.sk-toggleable__content {max-height: 200px;max-width: 100%;overflow: auto;}#sk-container-id-2 input.sk-toggleable__control:checked~label.sk-toggleable__label-arrow:before {content: \"▾\";}#sk-container-id-2 div.sk-estimator input.sk-toggleable__control:checked~label.sk-toggleable__label {background-color: #d4ebff;}#sk-container-id-2 div.sk-label input.sk-toggleable__control:checked~label.sk-toggleable__label {background-color: #d4ebff;}#sk-container-id-2 input.sk-hidden--visually {border: 0;clip: rect(1px 1px 1px 1px);clip: rect(1px, 1px, 1px, 1px);height: 1px;margin: -1px;overflow: hidden;padding: 0;position: absolute;width: 1px;}#sk-container-id-2 div.sk-estimator {font-family: monospace;background-color: #f0f8ff;border: 1px dotted black;border-radius: 0.25em;box-sizing: border-box;margin-bottom: 0.5em;}#sk-container-id-2 div.sk-estimator:hover {background-color: #d4ebff;}#sk-container-id-2 div.sk-parallel-item::after {content: \"\";width: 100%;border-bottom: 1px solid gray;flex-grow: 1;}#sk-container-id-2 div.sk-label:hover label.sk-toggleable__label {background-color: #d4ebff;}#sk-container-id-2 div.sk-serial::before {content: \"\";position: absolute;border-left: 1px solid gray;box-sizing: border-box;top: 0;bottom: 0;left: 50%;z-index: 0;}#sk-container-id-2 div.sk-serial {display: flex;flex-direction: column;align-items: center;background-color: white;padding-right: 0.2em;padding-left: 0.2em;position: relative;}#sk-container-id-2 div.sk-item {position: relative;z-index: 1;}#sk-container-id-2 div.sk-parallel {display: flex;align-items: stretch;justify-content: center;background-color: white;position: relative;}#sk-container-id-2 div.sk-item::before, #sk-container-id-2 div.sk-parallel-item::before {content: \"\";position: absolute;border-left: 1px solid gray;box-sizing: border-box;top: 0;bottom: 0;left: 50%;z-index: -1;}#sk-container-id-2 div.sk-parallel-item {display: flex;flex-direction: column;z-index: 1;position: relative;background-color: white;}#sk-container-id-2 div.sk-parallel-item:first-child::after {align-self: flex-end;width: 50%;}#sk-container-id-2 div.sk-parallel-item:last-child::after {align-self: flex-start;width: 50%;}#sk-container-id-2 div.sk-parallel-item:only-child::after {width: 0;}#sk-container-id-2 div.sk-dashed-wrapped {border: 1px dashed gray;margin: 0 0.4em 0.5em 0.4em;box-sizing: border-box;padding-bottom: 0.4em;background-color: white;}#sk-container-id-2 div.sk-label label {font-family: monospace;font-weight: bold;display: inline-block;line-height: 1.2em;}#sk-container-id-2 div.sk-label-container {text-align: center;}#sk-container-id-2 div.sk-container {/* jupyter's `normalize.less` sets `[hidden] { display: none; }` but bootstrap.min.css set `[hidden] { display: none !important; }` so we also need the `!important` here to be able to override the default hidden behavior on the sphinx rendered scikit-learn.org. See: https://github.com/scikit-learn/scikit-learn/issues/21755 */display: inline-block !important;position: relative;}#sk-container-id-2 div.sk-text-repr-fallback {display: none;}</style><div id=\"sk-container-id-2\" class=\"sk-top-container\"><div class=\"sk-text-repr-fallback\"><pre>SVC(kernel=&#x27;linear&#x27;, random_state=0)</pre><b>In a Jupyter environment, please rerun this cell to show the HTML representation or trust the notebook. <br />On GitHub, the HTML representation is unable to render, please try loading this page with nbviewer.org.</b></div><div class=\"sk-container\" hidden><div class=\"sk-item\"><div class=\"sk-estimator sk-toggleable\"><input class=\"sk-toggleable__control sk-hidden--visually\" id=\"sk-estimator-id-2\" type=\"checkbox\" checked><label for=\"sk-estimator-id-2\" class=\"sk-toggleable__label sk-toggleable__label-arrow\">SVC</label><div class=\"sk-toggleable__content\"><pre>SVC(kernel=&#x27;linear&#x27;, random_state=0)</pre></div></div></div></div></div>"
      ],
      "text/plain": [
       "SVC(kernel='linear', random_state=0)"
      ]
     },
     "execution_count": 26,
     "metadata": {},
     "output_type": "execute_result"
    }
   ],
   "source": [
    "from sklearn.svm import SVC # \"Support vector classifier\"  \n",
    "classifier = SVC(kernel='linear', random_state=0)  \n",
    "classifier.fit(x_train, y_train) "
   ]
  },
  {
   "cell_type": "code",
   "execution_count": 27,
   "metadata": {},
   "outputs": [
    {
     "data": {
      "text/plain": [
       "array([[416,   0,   0,   0],\n",
       "       [  0,  92,   0,   0],\n",
       "       [  0,   0, 160,   0],\n",
       "       [  6,  33,  65,  19]], dtype=int64)"
      ]
     },
     "execution_count": 27,
     "metadata": {},
     "output_type": "execute_result"
    }
   ],
   "source": [
    "y_pred= classifier.predict(x_test)  \n",
    "from sklearn.metrics import confusion_matrix  \n",
    "cm= confusion_matrix(y_test, y_pred)  \n",
    "cm"
   ]
  },
  {
   "cell_type": "code",
   "execution_count": 28,
   "metadata": {},
   "outputs": [
    {
     "name": "stdout",
     "output_type": "stream",
     "text": [
      "86.85208596713021\n"
     ]
    }
   ],
   "source": [
    "classifier_predictions = classifier.predict(x_test)\n",
    "print((accuracy_score(y_test,classifier_predictions))*100)"
   ]
  }
 ],
 "metadata": {
  "kernelspec": {
   "display_name": "Python 3.10.2 64-bit",
   "language": "python",
   "name": "python3"
  },
  "language_info": {
   "codemirror_mode": {
    "name": "ipython",
    "version": 3
   },
   "file_extension": ".py",
   "mimetype": "text/x-python",
   "name": "python",
   "nbconvert_exporter": "python",
   "pygments_lexer": "ipython3",
   "version": "3.10.2"
  },
  "orig_nbformat": 4,
  "vscode": {
   "interpreter": {
    "hash": "fd72a048f76567581c3f8f65f6866f15dc3207f2e66dac341528f423115d4635"
   }
  }
 },
 "nbformat": 4,
 "nbformat_minor": 2
}
