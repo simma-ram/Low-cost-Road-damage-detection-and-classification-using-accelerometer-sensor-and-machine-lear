{
 "cells": [
  {
   "cell_type": "code",
   "execution_count": 1,
   "metadata": {},
   "outputs": [],
   "source": [
    "#import required modules.\n",
    "import matplotlib.pyplot as mtp  \n",
    "import pandas as pd\n",
    "from sklearn.metrics import accuracy_score \n",
    "from sklearn import svm\n",
    "from sklearn.model_selection import train_test_split\n",
    "import numpy as nm\n",
    "import tensorflow as tf"
   ]
  },
  {
   "cell_type": "code",
   "execution_count": null,
   "metadata": {},
   "outputs": [],
   "source": [
    "#importing clean and labelled datasets from excel\n",
    "data_set= pd.read_excel(r\"C:\\Users\\saira\\Desktop\\BTP_ project\\Book1.xlsx\")\n",
    "df=pd.DataFrame(data_set)\n",
    "print(df)"
   ]
  },
  {
   "cell_type": "code",
   "execution_count": null,
   "metadata": {},
   "outputs": [],
   "source": [
    "#create two empty lists and append continueous sequence of lists  into it.\n",
    "new_x = []\n",
    "new_y = []\n",
    "#initiate with first element of label(rough or smooth).\n",
    "indexOfElement = 0\n",
    "presentType = data_set.iloc[indexOfElement, 1]\n",
    "#initiate another list and append continueous lists based on rough or smooth.  \n",
    "temp_data = []\n",
    "\n",
    "#iterate over range of length of dataframe.\n",
    "while indexOfElement < len(data_set):\n",
    "    if presentType == data_set.iloc[indexOfElement, 1]:\n",
    "        temp_data.append(data_set.iloc[indexOfElement, 0])\n",
    "    else:\n",
    "        new_x.append(temp_data)\n",
    "        new_y.append(presentType)\n",
    "        presentType = data_set.iloc[indexOfElement, 1]\n",
    "        temp_data = []\n",
    "        temp_data.append(data_set.iloc[indexOfElement, 0])\n",
    "    \n",
    "    indexOfElement = indexOfElement+1\n",
    "\n",
    "if len(temp_data) != 0:\n",
    "    new_x.append(temp_data)\n",
    "    new_y.append(presentType)\n",
    "#printing all lists in which each list has sequence of values.\n",
    "for i in new_x:\n",
    "    print(i)"
   ]
  },
  {
   "cell_type": "code",
   "execution_count": null,
   "metadata": {},
   "outputs": [],
   "source": [
    "testLabels = []\n",
    "\n",
    "\n",
    "for each in new_x:\n",
    "    arraySize = len(each)\n",
    "    increments = 0\n",
    "    decrements = 0\n",
    "    currentprocess = \"nothing\"\n",
    "    whatHappendFirst = 0\n",
    "    index = 0\n",
    "    prevElement = 10\n",
    "    while index < arraySize:\n",
    "        if each[index] > prevElement:\n",
    "            if currentprocess != \"increasing\":\n",
    "                increments += 1\n",
    "                currentprocess = \"increasing\"\n",
    "        if each[index] < prevElement:\n",
    "            if currentprocess != \"decreasing\":\n",
    "                decrements += 1\n",
    "                currentprocess = \"decreasikng\"\n",
    "        prevElement = each[index]\n",
    "        index = index+1\n",
    "    if each[0] > 10:\n",
    "        whatHappendFirst = \"increment\"\n",
    "    elif each[0] < 10:\n",
    "        whatHappendFirst = \"decrement\"\n",
    "\n",
    "    if increments >= 1 and decrements >= 1:\n",
    "        testLabels.append(\"pathhole\")\n",
    "    \n",
    "    elif increments == 0 and decrements >= 1:\n",
    "        testLabels.append(\"rut\")\n",
    "    elif increments >= 1 and decrements == 0:\n",
    "        testLabels.append(\"patch\")\n",
    "    elif increments == 0 and decrements == 0:\n",
    "        testLabels.append(\"smooth\")\n",
    "    else:\n",
    "        testLabels.append(\"others\")\n",
    "\n",
    "print(testLabels[])\n",
    "    "
   ]
  },
  {
   "cell_type": "code",
   "execution_count": 5,
   "metadata": {},
   "outputs": [
    {
     "name": "stdout",
     "output_type": "stream",
     "text": [
      "  Type of damage No. of damages\n",
      "1       patholes            720\n",
      "2            rut            832\n",
      "3          patch            424\n",
      "4         others              0\n",
      "5      no damage           1976\n"
     ]
    }
   ],
   "source": [
    "patholes = 0\n",
    "smooth = 0\n",
    "rut = 0\n",
    "patch = 0\n",
    "others = 0\n",
    "\n",
    "for each in testLabels:\n",
    "    if each == \"pathhole\":\n",
    "        patholes += 1\n",
    "    elif each == \"smooth\":\n",
    "        smooth += 1\n",
    "    elif each == \"patch\":\n",
    "        patch += 1\n",
    "    elif each == \"rut\":\n",
    "        rut += 1\n",
    "    else:\n",
    "        others += 1\n",
    "dict = {'patholes':str(patholes),'rut':str(rut),'patch':str(patch),'others':str(others),'no damage':str(smooth)}\n",
    "damages = pd.DataFrame(list(dict.items()),columns = ['Type of damage','No. of damages'],index=['1','2','3','4','5'])\n",
    "print(damages)"
   ]
  },
  {
   "cell_type": "code",
   "execution_count": 6,
   "metadata": {},
   "outputs": [
    {
     "name": "stdout",
     "output_type": "stream",
     "text": [
      "174\n"
     ]
    }
   ],
   "source": [
    "#finding maximum length of 1-D list in new_x.  \n",
    "max_len = 0\n",
    "for l in new_x:\n",
    "    if len(l)>max_len:\n",
    "        max_len=len(l)\n",
    "print(max_len)\n",
    "#appending 10 to the end of all 1-D lists to maximum length to form arrays of same length to train model.\n",
    "for l in new_x:\n",
    "    while len(l)<max_len:\n",
    "        l.append(10)"
   ]
  },
  {
   "cell_type": "code",
   "execution_count": null,
   "metadata": {},
   "outputs": [],
   "source": [
    "list_1=new_x\n",
    "list_2=testLabels\n",
    "table = pd.DataFrame(list(zip(list_1, list_2)),\n",
    "               columns =['Z-axis accleration array ', 'damage'])\n",
    "print(table)\n",
    "  "
   ]
  },
  {
   "cell_type": "code",
   "execution_count": 8,
   "metadata": {},
   "outputs": [],
   "source": [
    "#convert list objects into N-dimensional arrays.\n",
    "X = nm.array([nm.array(val) for val in new_x])\n",
    "#Give integer values to target labels inorder to convert them into tensors. \n",
    "labels = {'pathhole' : 3,'rut' : 2,'smooth' : 0,'patch' : 1}\n",
    "y_labels = []\n",
    "for l in testLabels:\n",
    "  y_labels.append(labels[l])"
   ]
  },
  {
   "cell_type": "code",
   "execution_count": 9,
   "metadata": {},
   "outputs": [],
   "source": [
    "#This function converts Python N-dimensional arrays and integers into Tensor objects.\n",
    "tx = tf.convert_to_tensor(X)\n",
    "#convert integer labels into tensors.\n",
    "ty = tf.convert_to_tensor(y_labels)\n"
   ]
  },
  {
   "cell_type": "code",
   "execution_count": 10,
   "metadata": {},
   "outputs": [],
   "source": [
    "#save the feature and target labels as sx an sy respectively in a folder.\n",
    "sx=nm.save('x_data',tx)\n",
    "sy=nm.save('y_data',ty)"
   ]
  }
 ],
 "metadata": {
  "kernelspec": {
   "display_name": "Python 3.10.2 64-bit",
   "language": "python",
   "name": "python3"
  },
  "language_info": {
   "codemirror_mode": {
    "name": "ipython",
    "version": 3
   },
   "file_extension": ".py",
   "mimetype": "text/x-python",
   "name": "python",
   "nbconvert_exporter": "python",
   "pygments_lexer": "ipython3",
   "version": "3.10.2"
  },
  "orig_nbformat": 4,
  "vscode": {
   "interpreter": {
    "hash": "fd72a048f76567581c3f8f65f6866f15dc3207f2e66dac341528f423115d4635"
   }
  }
 },
 "nbformat": 4,
 "nbformat_minor": 2
}
